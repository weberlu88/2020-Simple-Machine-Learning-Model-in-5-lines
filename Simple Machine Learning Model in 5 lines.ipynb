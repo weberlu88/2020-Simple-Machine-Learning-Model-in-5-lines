{
 "cells": [
  {
   "cell_type": "markdown",
   "metadata": {},
   "source": [
    "# Simple Machine Learning Model in Python in 5 lines of code\n",
    "Source: https://towardsdatascience.com/simple-machine-learning-model-in-python-in-5-lines-of-code-fe03d72e78c6\n",
    "\n",
    ">The basic idea of any machine learning model is that it is exposed to a large number of inputs and also supplied the output applicable for them. On analysing more and more data, it tries to figure out the relationship between input and the result.\n",
    "\n",
    "Here, X is the input and y is the output.  \n",
    "Given the training set you could easily guess that the output `(y)` is nothing but `(x1 + 2*x2 + 3*x3)`.\n",
    "\n",
    "![](https://miro.medium.com/max/624/1*JJGA5nSu0L4Am65LDpjxCQ.png)"
   ]
  },
  {
   "cell_type": "markdown",
   "metadata": {},
   "source": [
    "### 1. How To Generate Training Set\n",
    "Working with linear regression model is simple. Create a model, train it and then use it :)\n",
    "![](https://miro.medium.com/max/1440/1*saKqNtSnrKdVVEC772ewzw.png)"
   ]
  },
  {
   "cell_type": "code",
   "execution_count": 4,
   "metadata": {},
   "outputs": [],
   "source": [
    "from random import randint\n",
    "TRAIN_SET_LIMIT = 1000\n",
    "TRAIN_SET_COUNT = 100\n",
    "\n",
    "TRAIN_INPUT = list()\n",
    "TRAIN_OUTPUT = list()\n",
    "for i in range(TRAIN_SET_COUNT):\n",
    "    a = randint(0, TRAIN_SET_LIMIT)\n",
    "    b = randint(0, TRAIN_SET_LIMIT)\n",
    "    c = randint(0, TRAIN_SET_LIMIT)\n",
    "    op = a + (2*b) + (3*c)\n",
    "    TRAIN_INPUT.append([a, b, c])\n",
    "    TRAIN_OUTPUT.append(op)"
   ]
  },
  {
   "cell_type": "markdown",
   "metadata": {},
   "source": [
    "### 2. Train The Model\n",
    "We have the training set ready, so create a Linear Regression Model and pass it the training data."
   ]
  },
  {
   "cell_type": "code",
   "execution_count": 5,
   "metadata": {},
   "outputs": [
    {
     "data": {
      "text/plain": [
       "LinearRegression(copy_X=True, fit_intercept=True, n_jobs=-1, normalize=False)"
      ]
     },
     "execution_count": 5,
     "metadata": {},
     "output_type": "execute_result"
    }
   ],
   "source": [
    "from sklearn.linear_model import LinearRegression\n",
    "\n",
    "predictor = LinearRegression(n_jobs=-1)\n",
    "predictor.fit(X=TRAIN_INPUT, y=TRAIN_OUTPUT)"
   ]
  },
  {
   "cell_type": "markdown",
   "metadata": {},
   "source": [
    "### 3. Test Data\n",
    "`X = [[10, 20, 30]]`\n",
    "The outcome should be `10 + 20*2 + 30*3 = 140`. Let’s see what we got…"
   ]
  },
  {
   "cell_type": "code",
   "execution_count": 6,
   "metadata": {},
   "outputs": [
    {
     "name": "stdout",
     "output_type": "stream",
     "text": [
      "Outcome : [140.]\n",
      "Coefficients : [1. 2. 3.]\n"
     ]
    }
   ],
   "source": [
    "X_TEST = [[10, 20, 30]]\n",
    "outcome = predictor.predict(X=X_TEST)\n",
    "coefficients = predictor.coef_\n",
    "\n",
    "print('Outcome : {}\\nCoefficients : {}'.format(outcome, coefficients))"
   ]
  },
  {
   "cell_type": "code",
   "execution_count": null,
   "metadata": {},
   "outputs": [],
   "source": []
  }
 ],
 "metadata": {
  "kernelspec": {
   "display_name": "Python 3",
   "language": "python",
   "name": "python3"
  },
  "language_info": {
   "codemirror_mode": {
    "name": "ipython",
    "version": 3
   },
   "file_extension": ".py",
   "mimetype": "text/x-python",
   "name": "python",
   "nbconvert_exporter": "python",
   "pygments_lexer": "ipython3",
   "version": "3.7.4"
  }
 },
 "nbformat": 4,
 "nbformat_minor": 2
}
